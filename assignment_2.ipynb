{
 "cells": [
  {
   "cell_type": "code",
   "execution_count": 2,
   "id": "4b59132e-9991-41f8-affd-942653e30f75",
   "metadata": {},
   "outputs": [],
   "source": [
    "# Q1. list of five function of the pandas library with example"
   ]
  },
  {
   "cell_type": "code",
   "execution_count": 2,
   "id": "b8f2f4ea-7f84-437e-84ec-7dbe1a53da57",
   "metadata": {},
   "outputs": [],
   "source": [
    "import pandas as pd"
   ]
  },
  {
   "cell_type": "code",
   "execution_count": 3,
   "id": "a4730788-95ac-48a3-bedf-c0d472b6474b",
   "metadata": {},
   "outputs": [],
   "source": [
    "# info(), it is used to give information about dataframe \n",
    "# head() , it give top data of the data frame \n",
    "#tail(), it give tail data of teh data frame \n",
    "#value_counts() , it give the count value of the given attribute in the specific coloumns or rows \n",
    "#descrive() , it give the static information regarding the given numeric value in the given data set"
   ]
  },
  {
   "cell_type": "code",
   "execution_count": 4,
   "id": "5165f0cb-568a-428a-866d-1e53575784fa",
   "metadata": {},
   "outputs": [],
   "source": [
    "df = pd.read_excel(\"AdventureWorks_Database.xlsx\")"
   ]
  },
  {
   "cell_type": "code",
   "execution_count": 5,
   "id": "ecdc44d4-f01c-4860-bc80-84639062c929",
   "metadata": {},
   "outputs": [
    {
     "data": {
      "text/html": [
       "<div>\n",
       "<style scoped>\n",
       "    .dataframe tbody tr th:only-of-type {\n",
       "        vertical-align: middle;\n",
       "    }\n",
       "\n",
       "    .dataframe tbody tr th {\n",
       "        vertical-align: top;\n",
       "    }\n",
       "\n",
       "    .dataframe thead th {\n",
       "        text-align: right;\n",
       "    }\n",
       "</style>\n",
       "<table border=\"1\" class=\"dataframe\">\n",
       "  <thead>\n",
       "    <tr style=\"text-align: right;\">\n",
       "      <th></th>\n",
       "      <th>Date</th>\n",
       "      <th>DateKey</th>\n",
       "      <th>Year</th>\n",
       "      <th>Quarter</th>\n",
       "      <th>MonthNum</th>\n",
       "      <th>Month</th>\n",
       "      <th>FiscalYear</th>\n",
       "      <th>FiscalQuarter</th>\n",
       "      <th>FiscalMonthNum</th>\n",
       "      <th>FiscalMonth</th>\n",
       "      <th>MonthYear</th>\n",
       "      <th>MonthYearLong</th>\n",
       "      <th>MonthYearNum</th>\n",
       "      <th>WeekdayNum</th>\n",
       "      <th>Weekday</th>\n",
       "      <th>WeekdayWeekend</th>\n",
       "    </tr>\n",
       "  </thead>\n",
       "  <tbody>\n",
       "    <tr>\n",
       "      <th>0</th>\n",
       "      <td>2016-04-03</td>\n",
       "      <td>20160403</td>\n",
       "      <td>2016</td>\n",
       "      <td>Q2</td>\n",
       "      <td>4</td>\n",
       "      <td>Apr</td>\n",
       "      <td>FY2016</td>\n",
       "      <td>FQ4</td>\n",
       "      <td>10</td>\n",
       "      <td>Apr</td>\n",
       "      <td>Apr-16</td>\n",
       "      <td>Apr-2016</td>\n",
       "      <td>201604</td>\n",
       "      <td>1</td>\n",
       "      <td>Sun</td>\n",
       "      <td>Weekend</td>\n",
       "    </tr>\n",
       "    <tr>\n",
       "      <th>1</th>\n",
       "      <td>2016-04-04</td>\n",
       "      <td>20160404</td>\n",
       "      <td>2016</td>\n",
       "      <td>Q2</td>\n",
       "      <td>4</td>\n",
       "      <td>Apr</td>\n",
       "      <td>FY2016</td>\n",
       "      <td>FQ4</td>\n",
       "      <td>10</td>\n",
       "      <td>Apr</td>\n",
       "      <td>Apr-16</td>\n",
       "      <td>Apr-2016</td>\n",
       "      <td>201604</td>\n",
       "      <td>2</td>\n",
       "      <td>Mon</td>\n",
       "      <td>Weekday</td>\n",
       "    </tr>\n",
       "    <tr>\n",
       "      <th>2</th>\n",
       "      <td>2016-04-05</td>\n",
       "      <td>20160405</td>\n",
       "      <td>2016</td>\n",
       "      <td>Q2</td>\n",
       "      <td>4</td>\n",
       "      <td>Apr</td>\n",
       "      <td>FY2016</td>\n",
       "      <td>FQ4</td>\n",
       "      <td>10</td>\n",
       "      <td>Apr</td>\n",
       "      <td>Apr-16</td>\n",
       "      <td>Apr-2016</td>\n",
       "      <td>201604</td>\n",
       "      <td>3</td>\n",
       "      <td>Tue</td>\n",
       "      <td>Weekday</td>\n",
       "    </tr>\n",
       "    <tr>\n",
       "      <th>3</th>\n",
       "      <td>2016-04-06</td>\n",
       "      <td>20160406</td>\n",
       "      <td>2016</td>\n",
       "      <td>Q2</td>\n",
       "      <td>4</td>\n",
       "      <td>Apr</td>\n",
       "      <td>FY2016</td>\n",
       "      <td>FQ4</td>\n",
       "      <td>10</td>\n",
       "      <td>Apr</td>\n",
       "      <td>Apr-16</td>\n",
       "      <td>Apr-2016</td>\n",
       "      <td>201604</td>\n",
       "      <td>4</td>\n",
       "      <td>Wed</td>\n",
       "      <td>Weekday</td>\n",
       "    </tr>\n",
       "    <tr>\n",
       "      <th>4</th>\n",
       "      <td>2016-04-07</td>\n",
       "      <td>20160407</td>\n",
       "      <td>2016</td>\n",
       "      <td>Q2</td>\n",
       "      <td>4</td>\n",
       "      <td>Apr</td>\n",
       "      <td>FY2016</td>\n",
       "      <td>FQ4</td>\n",
       "      <td>10</td>\n",
       "      <td>Apr</td>\n",
       "      <td>Apr-16</td>\n",
       "      <td>Apr-2016</td>\n",
       "      <td>201604</td>\n",
       "      <td>5</td>\n",
       "      <td>Thu</td>\n",
       "      <td>Weekday</td>\n",
       "    </tr>\n",
       "    <tr>\n",
       "      <th>...</th>\n",
       "      <td>...</td>\n",
       "      <td>...</td>\n",
       "      <td>...</td>\n",
       "      <td>...</td>\n",
       "      <td>...</td>\n",
       "      <td>...</td>\n",
       "      <td>...</td>\n",
       "      <td>...</td>\n",
       "      <td>...</td>\n",
       "      <td>...</td>\n",
       "      <td>...</td>\n",
       "      <td>...</td>\n",
       "      <td>...</td>\n",
       "      <td>...</td>\n",
       "      <td>...</td>\n",
       "      <td>...</td>\n",
       "    </tr>\n",
       "    <tr>\n",
       "      <th>1456</th>\n",
       "      <td>2014-06-18</td>\n",
       "      <td>20140618</td>\n",
       "      <td>2014</td>\n",
       "      <td>Q2</td>\n",
       "      <td>6</td>\n",
       "      <td>Jun</td>\n",
       "      <td>FY2014</td>\n",
       "      <td>FQ4</td>\n",
       "      <td>12</td>\n",
       "      <td>Jun</td>\n",
       "      <td>Jun-14</td>\n",
       "      <td>Jun-2014</td>\n",
       "      <td>201406</td>\n",
       "      <td>4</td>\n",
       "      <td>Wed</td>\n",
       "      <td>Weekday</td>\n",
       "    </tr>\n",
       "    <tr>\n",
       "      <th>1457</th>\n",
       "      <td>2014-06-19</td>\n",
       "      <td>20140619</td>\n",
       "      <td>2014</td>\n",
       "      <td>Q2</td>\n",
       "      <td>6</td>\n",
       "      <td>Jun</td>\n",
       "      <td>FY2014</td>\n",
       "      <td>FQ4</td>\n",
       "      <td>12</td>\n",
       "      <td>Jun</td>\n",
       "      <td>Jun-14</td>\n",
       "      <td>Jun-2014</td>\n",
       "      <td>201406</td>\n",
       "      <td>5</td>\n",
       "      <td>Thu</td>\n",
       "      <td>Weekday</td>\n",
       "    </tr>\n",
       "    <tr>\n",
       "      <th>1458</th>\n",
       "      <td>2014-06-20</td>\n",
       "      <td>20140620</td>\n",
       "      <td>2014</td>\n",
       "      <td>Q2</td>\n",
       "      <td>6</td>\n",
       "      <td>Jun</td>\n",
       "      <td>FY2014</td>\n",
       "      <td>FQ4</td>\n",
       "      <td>12</td>\n",
       "      <td>Jun</td>\n",
       "      <td>Jun-14</td>\n",
       "      <td>Jun-2014</td>\n",
       "      <td>201406</td>\n",
       "      <td>6</td>\n",
       "      <td>Fri</td>\n",
       "      <td>Weekday</td>\n",
       "    </tr>\n",
       "    <tr>\n",
       "      <th>1459</th>\n",
       "      <td>2014-06-21</td>\n",
       "      <td>20140621</td>\n",
       "      <td>2014</td>\n",
       "      <td>Q2</td>\n",
       "      <td>6</td>\n",
       "      <td>Jun</td>\n",
       "      <td>FY2014</td>\n",
       "      <td>FQ4</td>\n",
       "      <td>12</td>\n",
       "      <td>Jun</td>\n",
       "      <td>Jun-14</td>\n",
       "      <td>Jun-2014</td>\n",
       "      <td>201406</td>\n",
       "      <td>7</td>\n",
       "      <td>Sat</td>\n",
       "      <td>Weekend</td>\n",
       "    </tr>\n",
       "    <tr>\n",
       "      <th>1460</th>\n",
       "      <td>2014-06-22</td>\n",
       "      <td>20140622</td>\n",
       "      <td>2014</td>\n",
       "      <td>Q2</td>\n",
       "      <td>6</td>\n",
       "      <td>Jun</td>\n",
       "      <td>FY2014</td>\n",
       "      <td>FQ4</td>\n",
       "      <td>12</td>\n",
       "      <td>Jun</td>\n",
       "      <td>Jun-14</td>\n",
       "      <td>Jun-2014</td>\n",
       "      <td>201406</td>\n",
       "      <td>1</td>\n",
       "      <td>Sun</td>\n",
       "      <td>Weekend</td>\n",
       "    </tr>\n",
       "  </tbody>\n",
       "</table>\n",
       "<p>1461 rows × 16 columns</p>\n",
       "</div>"
      ],
      "text/plain": [
       "           Date   DateKey  Year Quarter  MonthNum Month FiscalYear  \\\n",
       "0    2016-04-03  20160403  2016      Q2         4   Apr     FY2016   \n",
       "1    2016-04-04  20160404  2016      Q2         4   Apr     FY2016   \n",
       "2    2016-04-05  20160405  2016      Q2         4   Apr     FY2016   \n",
       "3    2016-04-06  20160406  2016      Q2         4   Apr     FY2016   \n",
       "4    2016-04-07  20160407  2016      Q2         4   Apr     FY2016   \n",
       "...         ...       ...   ...     ...       ...   ...        ...   \n",
       "1456 2014-06-18  20140618  2014      Q2         6   Jun     FY2014   \n",
       "1457 2014-06-19  20140619  2014      Q2         6   Jun     FY2014   \n",
       "1458 2014-06-20  20140620  2014      Q2         6   Jun     FY2014   \n",
       "1459 2014-06-21  20140621  2014      Q2         6   Jun     FY2014   \n",
       "1460 2014-06-22  20140622  2014      Q2         6   Jun     FY2014   \n",
       "\n",
       "     FiscalQuarter  FiscalMonthNum FiscalMonth MonthYear MonthYearLong  \\\n",
       "0              FQ4              10         Apr    Apr-16      Apr-2016   \n",
       "1              FQ4              10         Apr    Apr-16      Apr-2016   \n",
       "2              FQ4              10         Apr    Apr-16      Apr-2016   \n",
       "3              FQ4              10         Apr    Apr-16      Apr-2016   \n",
       "4              FQ4              10         Apr    Apr-16      Apr-2016   \n",
       "...            ...             ...         ...       ...           ...   \n",
       "1456           FQ4              12         Jun    Jun-14      Jun-2014   \n",
       "1457           FQ4              12         Jun    Jun-14      Jun-2014   \n",
       "1458           FQ4              12         Jun    Jun-14      Jun-2014   \n",
       "1459           FQ4              12         Jun    Jun-14      Jun-2014   \n",
       "1460           FQ4              12         Jun    Jun-14      Jun-2014   \n",
       "\n",
       "      MonthYearNum  WeekdayNum Weekday WeekdayWeekend  \n",
       "0           201604           1     Sun        Weekend  \n",
       "1           201604           2     Mon        Weekday  \n",
       "2           201604           3     Tue        Weekday  \n",
       "3           201604           4     Wed        Weekday  \n",
       "4           201604           5     Thu        Weekday  \n",
       "...            ...         ...     ...            ...  \n",
       "1456        201406           4     Wed        Weekday  \n",
       "1457        201406           5     Thu        Weekday  \n",
       "1458        201406           6     Fri        Weekday  \n",
       "1459        201406           7     Sat        Weekend  \n",
       "1460        201406           1     Sun        Weekend  \n",
       "\n",
       "[1461 rows x 16 columns]"
      ]
     },
     "execution_count": 5,
     "metadata": {},
     "output_type": "execute_result"
    }
   ],
   "source": [
    "df"
   ]
  },
  {
   "cell_type": "code",
   "execution_count": 6,
   "id": "58723bdd-e8a1-42d4-888b-c536391077e5",
   "metadata": {},
   "outputs": [],
   "source": [
    "# df.set_option(\"display.max_columns\")\n",
    "pd.set_option(\"display.max_columns\", None)"
   ]
  },
  {
   "cell_type": "code",
   "execution_count": 7,
   "id": "6463e514-753a-4e5a-8b8e-fc66895ada2e",
   "metadata": {},
   "outputs": [
    {
     "data": {
      "text/plain": [
       "(1461, 16)"
      ]
     },
     "execution_count": 7,
     "metadata": {},
     "output_type": "execute_result"
    }
   ],
   "source": [
    "df.shape"
   ]
  },
  {
   "cell_type": "code",
   "execution_count": 8,
   "id": "8b865624-71d0-45c8-afd8-cc747d0b9ee7",
   "metadata": {},
   "outputs": [
    {
     "name": "stdout",
     "output_type": "stream",
     "text": [
      "<class 'pandas.core.frame.DataFrame'>\n",
      "RangeIndex: 1461 entries, 0 to 1460\n",
      "Data columns (total 16 columns):\n",
      " #   Column          Non-Null Count  Dtype         \n",
      "---  ------          --------------  -----         \n",
      " 0   Date            1461 non-null   datetime64[ns]\n",
      " 1   DateKey         1461 non-null   int64         \n",
      " 2   Year            1461 non-null   int64         \n",
      " 3   Quarter         1461 non-null   object        \n",
      " 4   MonthNum        1461 non-null   int64         \n",
      " 5   Month           1461 non-null   object        \n",
      " 6   FiscalYear      1461 non-null   object        \n",
      " 7   FiscalQuarter   1461 non-null   object        \n",
      " 8   FiscalMonthNum  1461 non-null   int64         \n",
      " 9   FiscalMonth     1461 non-null   object        \n",
      " 10  MonthYear       1461 non-null   object        \n",
      " 11  MonthYearLong   1461 non-null   object        \n",
      " 12  MonthYearNum    1461 non-null   int64         \n",
      " 13  WeekdayNum      1461 non-null   int64         \n",
      " 14  Weekday         1461 non-null   object        \n",
      " 15  WeekdayWeekend  1461 non-null   object        \n",
      "dtypes: datetime64[ns](1), int64(6), object(9)\n",
      "memory usage: 182.8+ KB\n"
     ]
    }
   ],
   "source": [
    "df.info()"
   ]
  },
  {
   "cell_type": "code",
   "execution_count": 9,
   "id": "bf8004bf-92bf-4601-aef0-2b16cbbd7c8d",
   "metadata": {},
   "outputs": [
    {
     "data": {
      "text/html": [
       "<div>\n",
       "<style scoped>\n",
       "    .dataframe tbody tr th:only-of-type {\n",
       "        vertical-align: middle;\n",
       "    }\n",
       "\n",
       "    .dataframe tbody tr th {\n",
       "        vertical-align: top;\n",
       "    }\n",
       "\n",
       "    .dataframe thead th {\n",
       "        text-align: right;\n",
       "    }\n",
       "</style>\n",
       "<table border=\"1\" class=\"dataframe\">\n",
       "  <thead>\n",
       "    <tr style=\"text-align: right;\">\n",
       "      <th></th>\n",
       "      <th>Date</th>\n",
       "      <th>DateKey</th>\n",
       "      <th>Year</th>\n",
       "      <th>Quarter</th>\n",
       "      <th>MonthNum</th>\n",
       "      <th>Month</th>\n",
       "      <th>FiscalYear</th>\n",
       "      <th>FiscalQuarter</th>\n",
       "      <th>FiscalMonthNum</th>\n",
       "      <th>FiscalMonth</th>\n",
       "      <th>MonthYear</th>\n",
       "      <th>MonthYearLong</th>\n",
       "      <th>MonthYearNum</th>\n",
       "      <th>WeekdayNum</th>\n",
       "      <th>Weekday</th>\n",
       "      <th>WeekdayWeekend</th>\n",
       "    </tr>\n",
       "  </thead>\n",
       "  <tbody>\n",
       "    <tr>\n",
       "      <th>0</th>\n",
       "      <td>2016-04-03</td>\n",
       "      <td>20160403</td>\n",
       "      <td>2016</td>\n",
       "      <td>Q2</td>\n",
       "      <td>4</td>\n",
       "      <td>Apr</td>\n",
       "      <td>FY2016</td>\n",
       "      <td>FQ4</td>\n",
       "      <td>10</td>\n",
       "      <td>Apr</td>\n",
       "      <td>Apr-16</td>\n",
       "      <td>Apr-2016</td>\n",
       "      <td>201604</td>\n",
       "      <td>1</td>\n",
       "      <td>Sun</td>\n",
       "      <td>Weekend</td>\n",
       "    </tr>\n",
       "    <tr>\n",
       "      <th>1</th>\n",
       "      <td>2016-04-04</td>\n",
       "      <td>20160404</td>\n",
       "      <td>2016</td>\n",
       "      <td>Q2</td>\n",
       "      <td>4</td>\n",
       "      <td>Apr</td>\n",
       "      <td>FY2016</td>\n",
       "      <td>FQ4</td>\n",
       "      <td>10</td>\n",
       "      <td>Apr</td>\n",
       "      <td>Apr-16</td>\n",
       "      <td>Apr-2016</td>\n",
       "      <td>201604</td>\n",
       "      <td>2</td>\n",
       "      <td>Mon</td>\n",
       "      <td>Weekday</td>\n",
       "    </tr>\n",
       "    <tr>\n",
       "      <th>2</th>\n",
       "      <td>2016-04-05</td>\n",
       "      <td>20160405</td>\n",
       "      <td>2016</td>\n",
       "      <td>Q2</td>\n",
       "      <td>4</td>\n",
       "      <td>Apr</td>\n",
       "      <td>FY2016</td>\n",
       "      <td>FQ4</td>\n",
       "      <td>10</td>\n",
       "      <td>Apr</td>\n",
       "      <td>Apr-16</td>\n",
       "      <td>Apr-2016</td>\n",
       "      <td>201604</td>\n",
       "      <td>3</td>\n",
       "      <td>Tue</td>\n",
       "      <td>Weekday</td>\n",
       "    </tr>\n",
       "    <tr>\n",
       "      <th>3</th>\n",
       "      <td>2016-04-06</td>\n",
       "      <td>20160406</td>\n",
       "      <td>2016</td>\n",
       "      <td>Q2</td>\n",
       "      <td>4</td>\n",
       "      <td>Apr</td>\n",
       "      <td>FY2016</td>\n",
       "      <td>FQ4</td>\n",
       "      <td>10</td>\n",
       "      <td>Apr</td>\n",
       "      <td>Apr-16</td>\n",
       "      <td>Apr-2016</td>\n",
       "      <td>201604</td>\n",
       "      <td>4</td>\n",
       "      <td>Wed</td>\n",
       "      <td>Weekday</td>\n",
       "    </tr>\n",
       "    <tr>\n",
       "      <th>4</th>\n",
       "      <td>2016-04-07</td>\n",
       "      <td>20160407</td>\n",
       "      <td>2016</td>\n",
       "      <td>Q2</td>\n",
       "      <td>4</td>\n",
       "      <td>Apr</td>\n",
       "      <td>FY2016</td>\n",
       "      <td>FQ4</td>\n",
       "      <td>10</td>\n",
       "      <td>Apr</td>\n",
       "      <td>Apr-16</td>\n",
       "      <td>Apr-2016</td>\n",
       "      <td>201604</td>\n",
       "      <td>5</td>\n",
       "      <td>Thu</td>\n",
       "      <td>Weekday</td>\n",
       "    </tr>\n",
       "  </tbody>\n",
       "</table>\n",
       "</div>"
      ],
      "text/plain": [
       "        Date   DateKey  Year Quarter  MonthNum Month FiscalYear FiscalQuarter  \\\n",
       "0 2016-04-03  20160403  2016      Q2         4   Apr     FY2016           FQ4   \n",
       "1 2016-04-04  20160404  2016      Q2         4   Apr     FY2016           FQ4   \n",
       "2 2016-04-05  20160405  2016      Q2         4   Apr     FY2016           FQ4   \n",
       "3 2016-04-06  20160406  2016      Q2         4   Apr     FY2016           FQ4   \n",
       "4 2016-04-07  20160407  2016      Q2         4   Apr     FY2016           FQ4   \n",
       "\n",
       "   FiscalMonthNum FiscalMonth MonthYear MonthYearLong  MonthYearNum  \\\n",
       "0              10         Apr    Apr-16      Apr-2016        201604   \n",
       "1              10         Apr    Apr-16      Apr-2016        201604   \n",
       "2              10         Apr    Apr-16      Apr-2016        201604   \n",
       "3              10         Apr    Apr-16      Apr-2016        201604   \n",
       "4              10         Apr    Apr-16      Apr-2016        201604   \n",
       "\n",
       "   WeekdayNum Weekday WeekdayWeekend  \n",
       "0           1     Sun        Weekend  \n",
       "1           2     Mon        Weekday  \n",
       "2           3     Tue        Weekday  \n",
       "3           4     Wed        Weekday  \n",
       "4           5     Thu        Weekday  "
      ]
     },
     "execution_count": 9,
     "metadata": {},
     "output_type": "execute_result"
    }
   ],
   "source": [
    "df.head()"
   ]
  },
  {
   "cell_type": "code",
   "execution_count": 10,
   "id": "d5b14627-039c-476d-8623-251cfa786124",
   "metadata": {},
   "outputs": [
    {
     "data": {
      "text/html": [
       "<div>\n",
       "<style scoped>\n",
       "    .dataframe tbody tr th:only-of-type {\n",
       "        vertical-align: middle;\n",
       "    }\n",
       "\n",
       "    .dataframe tbody tr th {\n",
       "        vertical-align: top;\n",
       "    }\n",
       "\n",
       "    .dataframe thead th {\n",
       "        text-align: right;\n",
       "    }\n",
       "</style>\n",
       "<table border=\"1\" class=\"dataframe\">\n",
       "  <thead>\n",
       "    <tr style=\"text-align: right;\">\n",
       "      <th></th>\n",
       "      <th>Date</th>\n",
       "      <th>DateKey</th>\n",
       "      <th>Year</th>\n",
       "      <th>Quarter</th>\n",
       "      <th>MonthNum</th>\n",
       "      <th>Month</th>\n",
       "      <th>FiscalYear</th>\n",
       "      <th>FiscalQuarter</th>\n",
       "      <th>FiscalMonthNum</th>\n",
       "      <th>FiscalMonth</th>\n",
       "      <th>MonthYear</th>\n",
       "      <th>MonthYearLong</th>\n",
       "      <th>MonthYearNum</th>\n",
       "      <th>WeekdayNum</th>\n",
       "      <th>Weekday</th>\n",
       "      <th>WeekdayWeekend</th>\n",
       "    </tr>\n",
       "  </thead>\n",
       "  <tbody>\n",
       "    <tr>\n",
       "      <th>1456</th>\n",
       "      <td>2014-06-18</td>\n",
       "      <td>20140618</td>\n",
       "      <td>2014</td>\n",
       "      <td>Q2</td>\n",
       "      <td>6</td>\n",
       "      <td>Jun</td>\n",
       "      <td>FY2014</td>\n",
       "      <td>FQ4</td>\n",
       "      <td>12</td>\n",
       "      <td>Jun</td>\n",
       "      <td>Jun-14</td>\n",
       "      <td>Jun-2014</td>\n",
       "      <td>201406</td>\n",
       "      <td>4</td>\n",
       "      <td>Wed</td>\n",
       "      <td>Weekday</td>\n",
       "    </tr>\n",
       "    <tr>\n",
       "      <th>1457</th>\n",
       "      <td>2014-06-19</td>\n",
       "      <td>20140619</td>\n",
       "      <td>2014</td>\n",
       "      <td>Q2</td>\n",
       "      <td>6</td>\n",
       "      <td>Jun</td>\n",
       "      <td>FY2014</td>\n",
       "      <td>FQ4</td>\n",
       "      <td>12</td>\n",
       "      <td>Jun</td>\n",
       "      <td>Jun-14</td>\n",
       "      <td>Jun-2014</td>\n",
       "      <td>201406</td>\n",
       "      <td>5</td>\n",
       "      <td>Thu</td>\n",
       "      <td>Weekday</td>\n",
       "    </tr>\n",
       "    <tr>\n",
       "      <th>1458</th>\n",
       "      <td>2014-06-20</td>\n",
       "      <td>20140620</td>\n",
       "      <td>2014</td>\n",
       "      <td>Q2</td>\n",
       "      <td>6</td>\n",
       "      <td>Jun</td>\n",
       "      <td>FY2014</td>\n",
       "      <td>FQ4</td>\n",
       "      <td>12</td>\n",
       "      <td>Jun</td>\n",
       "      <td>Jun-14</td>\n",
       "      <td>Jun-2014</td>\n",
       "      <td>201406</td>\n",
       "      <td>6</td>\n",
       "      <td>Fri</td>\n",
       "      <td>Weekday</td>\n",
       "    </tr>\n",
       "    <tr>\n",
       "      <th>1459</th>\n",
       "      <td>2014-06-21</td>\n",
       "      <td>20140621</td>\n",
       "      <td>2014</td>\n",
       "      <td>Q2</td>\n",
       "      <td>6</td>\n",
       "      <td>Jun</td>\n",
       "      <td>FY2014</td>\n",
       "      <td>FQ4</td>\n",
       "      <td>12</td>\n",
       "      <td>Jun</td>\n",
       "      <td>Jun-14</td>\n",
       "      <td>Jun-2014</td>\n",
       "      <td>201406</td>\n",
       "      <td>7</td>\n",
       "      <td>Sat</td>\n",
       "      <td>Weekend</td>\n",
       "    </tr>\n",
       "    <tr>\n",
       "      <th>1460</th>\n",
       "      <td>2014-06-22</td>\n",
       "      <td>20140622</td>\n",
       "      <td>2014</td>\n",
       "      <td>Q2</td>\n",
       "      <td>6</td>\n",
       "      <td>Jun</td>\n",
       "      <td>FY2014</td>\n",
       "      <td>FQ4</td>\n",
       "      <td>12</td>\n",
       "      <td>Jun</td>\n",
       "      <td>Jun-14</td>\n",
       "      <td>Jun-2014</td>\n",
       "      <td>201406</td>\n",
       "      <td>1</td>\n",
       "      <td>Sun</td>\n",
       "      <td>Weekend</td>\n",
       "    </tr>\n",
       "  </tbody>\n",
       "</table>\n",
       "</div>"
      ],
      "text/plain": [
       "           Date   DateKey  Year Quarter  MonthNum Month FiscalYear  \\\n",
       "1456 2014-06-18  20140618  2014      Q2         6   Jun     FY2014   \n",
       "1457 2014-06-19  20140619  2014      Q2         6   Jun     FY2014   \n",
       "1458 2014-06-20  20140620  2014      Q2         6   Jun     FY2014   \n",
       "1459 2014-06-21  20140621  2014      Q2         6   Jun     FY2014   \n",
       "1460 2014-06-22  20140622  2014      Q2         6   Jun     FY2014   \n",
       "\n",
       "     FiscalQuarter  FiscalMonthNum FiscalMonth MonthYear MonthYearLong  \\\n",
       "1456           FQ4              12         Jun    Jun-14      Jun-2014   \n",
       "1457           FQ4              12         Jun    Jun-14      Jun-2014   \n",
       "1458           FQ4              12         Jun    Jun-14      Jun-2014   \n",
       "1459           FQ4              12         Jun    Jun-14      Jun-2014   \n",
       "1460           FQ4              12         Jun    Jun-14      Jun-2014   \n",
       "\n",
       "      MonthYearNum  WeekdayNum Weekday WeekdayWeekend  \n",
       "1456        201406           4     Wed        Weekday  \n",
       "1457        201406           5     Thu        Weekday  \n",
       "1458        201406           6     Fri        Weekday  \n",
       "1459        201406           7     Sat        Weekend  \n",
       "1460        201406           1     Sun        Weekend  "
      ]
     },
     "execution_count": 10,
     "metadata": {},
     "output_type": "execute_result"
    }
   ],
   "source": [
    "df.tail()"
   ]
  },
  {
   "cell_type": "code",
   "execution_count": 11,
   "id": "2bbea29c-c2a9-499f-b246-3b0e70037095",
   "metadata": {},
   "outputs": [
    {
     "data": {
      "text/plain": [
       "0   2016-04-03\n",
       "1   2016-04-04\n",
       "2   2016-04-05\n",
       "3   2016-04-06\n",
       "4   2016-04-07\n",
       "5   2016-04-08\n",
       "6   2016-04-09\n",
       "Name: Date, dtype: datetime64[ns]"
      ]
     },
     "execution_count": 11,
     "metadata": {},
     "output_type": "execute_result"
    }
   ],
   "source": [
    "df.loc[0:6,\"Date\"]"
   ]
  },
  {
   "cell_type": "code",
   "execution_count": 12,
   "id": "06cdc06f-e1ef-483b-bc35-98b544e3a2cc",
   "metadata": {},
   "outputs": [
    {
     "data": {
      "text/html": [
       "<div>\n",
       "<style scoped>\n",
       "    .dataframe tbody tr th:only-of-type {\n",
       "        vertical-align: middle;\n",
       "    }\n",
       "\n",
       "    .dataframe tbody tr th {\n",
       "        vertical-align: top;\n",
       "    }\n",
       "\n",
       "    .dataframe thead th {\n",
       "        text-align: right;\n",
       "    }\n",
       "</style>\n",
       "<table border=\"1\" class=\"dataframe\">\n",
       "  <thead>\n",
       "    <tr style=\"text-align: right;\">\n",
       "      <th></th>\n",
       "      <th>Date</th>\n",
       "      <th>DateKey</th>\n",
       "      <th>Year</th>\n",
       "      <th>Quarter</th>\n",
       "      <th>MonthNum</th>\n",
       "      <th>Month</th>\n",
       "    </tr>\n",
       "  </thead>\n",
       "  <tbody>\n",
       "    <tr>\n",
       "      <th>0</th>\n",
       "      <td>2016-04-03</td>\n",
       "      <td>20160403</td>\n",
       "      <td>2016</td>\n",
       "      <td>Q2</td>\n",
       "      <td>4</td>\n",
       "      <td>Apr</td>\n",
       "    </tr>\n",
       "    <tr>\n",
       "      <th>1</th>\n",
       "      <td>2016-04-04</td>\n",
       "      <td>20160404</td>\n",
       "      <td>2016</td>\n",
       "      <td>Q2</td>\n",
       "      <td>4</td>\n",
       "      <td>Apr</td>\n",
       "    </tr>\n",
       "    <tr>\n",
       "      <th>2</th>\n",
       "      <td>2016-04-05</td>\n",
       "      <td>20160405</td>\n",
       "      <td>2016</td>\n",
       "      <td>Q2</td>\n",
       "      <td>4</td>\n",
       "      <td>Apr</td>\n",
       "    </tr>\n",
       "    <tr>\n",
       "      <th>3</th>\n",
       "      <td>2016-04-06</td>\n",
       "      <td>20160406</td>\n",
       "      <td>2016</td>\n",
       "      <td>Q2</td>\n",
       "      <td>4</td>\n",
       "      <td>Apr</td>\n",
       "    </tr>\n",
       "    <tr>\n",
       "      <th>4</th>\n",
       "      <td>2016-04-07</td>\n",
       "      <td>20160407</td>\n",
       "      <td>2016</td>\n",
       "      <td>Q2</td>\n",
       "      <td>4</td>\n",
       "      <td>Apr</td>\n",
       "    </tr>\n",
       "    <tr>\n",
       "      <th>5</th>\n",
       "      <td>2016-04-08</td>\n",
       "      <td>20160408</td>\n",
       "      <td>2016</td>\n",
       "      <td>Q2</td>\n",
       "      <td>4</td>\n",
       "      <td>Apr</td>\n",
       "    </tr>\n",
       "  </tbody>\n",
       "</table>\n",
       "</div>"
      ],
      "text/plain": [
       "        Date   DateKey  Year Quarter  MonthNum Month\n",
       "0 2016-04-03  20160403  2016      Q2         4   Apr\n",
       "1 2016-04-04  20160404  2016      Q2         4   Apr\n",
       "2 2016-04-05  20160405  2016      Q2         4   Apr\n",
       "3 2016-04-06  20160406  2016      Q2         4   Apr\n",
       "4 2016-04-07  20160407  2016      Q2         4   Apr\n",
       "5 2016-04-08  20160408  2016      Q2         4   Apr"
      ]
     },
     "execution_count": 12,
     "metadata": {},
     "output_type": "execute_result"
    }
   ],
   "source": [
    "df.iloc[0:6,0:6]"
   ]
  },
  {
   "cell_type": "code",
   "execution_count": 13,
   "id": "f7397e6d-b9e6-47e2-8d22-837205e95193",
   "metadata": {},
   "outputs": [
    {
     "data": {
      "text/plain": [
       "Date              1461\n",
       "DateKey           1461\n",
       "Year              1461\n",
       "Quarter           1461\n",
       "MonthNum          1461\n",
       "Month             1461\n",
       "FiscalYear        1461\n",
       "FiscalQuarter     1461\n",
       "FiscalMonthNum    1461\n",
       "FiscalMonth       1461\n",
       "MonthYear         1461\n",
       "MonthYearLong     1461\n",
       "MonthYearNum      1461\n",
       "WeekdayNum        1461\n",
       "Weekday           1461\n",
       "WeekdayWeekend    1461\n",
       "dtype: int64"
      ]
     },
     "execution_count": 13,
     "metadata": {},
     "output_type": "execute_result"
    }
   ],
   "source": [
    "df.count()"
   ]
  },
  {
   "cell_type": "code",
   "execution_count": 14,
   "id": "c25f8c7c-025c-4833-96fe-7a3327098356",
   "metadata": {},
   "outputs": [
    {
     "data": {
      "text/plain": [
       "Month\n",
       "Aug    124\n",
       "Dec    124\n",
       "Jan    124\n",
       "Jul    124\n",
       "Mar    124\n",
       "May    124\n",
       "Oct    124\n",
       "Apr    120\n",
       "Jun    120\n",
       "Nov    120\n",
       "Sep    120\n",
       "Feb    113\n",
       "Name: count, dtype: int64"
      ]
     },
     "execution_count": 14,
     "metadata": {},
     "output_type": "execute_result"
    }
   ],
   "source": [
    "df.value_counts(\"Month\")"
   ]
  },
  {
   "cell_type": "code",
   "execution_count": 15,
   "id": "08f9c762-69a7-478d-90a9-f13363bacca0",
   "metadata": {},
   "outputs": [
    {
     "data": {
      "text/html": [
       "<div>\n",
       "<style scoped>\n",
       "    .dataframe tbody tr th:only-of-type {\n",
       "        vertical-align: middle;\n",
       "    }\n",
       "\n",
       "    .dataframe tbody tr th {\n",
       "        vertical-align: top;\n",
       "    }\n",
       "\n",
       "    .dataframe thead th {\n",
       "        text-align: right;\n",
       "    }\n",
       "</style>\n",
       "<table border=\"1\" class=\"dataframe\">\n",
       "  <thead>\n",
       "    <tr style=\"text-align: right;\">\n",
       "      <th></th>\n",
       "      <th>Date</th>\n",
       "      <th>DateKey</th>\n",
       "      <th>Year</th>\n",
       "      <th>MonthNum</th>\n",
       "      <th>FiscalMonthNum</th>\n",
       "      <th>MonthYearNum</th>\n",
       "      <th>WeekdayNum</th>\n",
       "    </tr>\n",
       "  </thead>\n",
       "  <tbody>\n",
       "    <tr>\n",
       "      <th>count</th>\n",
       "      <td>1461</td>\n",
       "      <td>1.461000e+03</td>\n",
       "      <td>1461.000000</td>\n",
       "      <td>1461.000000</td>\n",
       "      <td>1461.000000</td>\n",
       "      <td>1461.000000</td>\n",
       "      <td>1461.000000</td>\n",
       "    </tr>\n",
       "    <tr>\n",
       "      <th>mean</th>\n",
       "      <td>2016-01-01 00:00:00</td>\n",
       "      <td>2.015567e+07</td>\n",
       "      <td>2015.500342</td>\n",
       "      <td>6.522930</td>\n",
       "      <td>6.477755</td>\n",
       "      <td>201556.557153</td>\n",
       "      <td>4.002053</td>\n",
       "    </tr>\n",
       "    <tr>\n",
       "      <th>min</th>\n",
       "      <td>2014-01-01 00:00:00</td>\n",
       "      <td>2.014010e+07</td>\n",
       "      <td>2014.000000</td>\n",
       "      <td>1.000000</td>\n",
       "      <td>1.000000</td>\n",
       "      <td>201401.000000</td>\n",
       "      <td>1.000000</td>\n",
       "    </tr>\n",
       "    <tr>\n",
       "      <th>25%</th>\n",
       "      <td>2015-01-01 00:00:00</td>\n",
       "      <td>2.015010e+07</td>\n",
       "      <td>2015.000000</td>\n",
       "      <td>4.000000</td>\n",
       "      <td>3.000000</td>\n",
       "      <td>201501.000000</td>\n",
       "      <td>2.000000</td>\n",
       "    </tr>\n",
       "    <tr>\n",
       "      <th>50%</th>\n",
       "      <td>2016-01-01 00:00:00</td>\n",
       "      <td>2.016010e+07</td>\n",
       "      <td>2016.000000</td>\n",
       "      <td>7.000000</td>\n",
       "      <td>6.000000</td>\n",
       "      <td>201601.000000</td>\n",
       "      <td>4.000000</td>\n",
       "    </tr>\n",
       "    <tr>\n",
       "      <th>75%</th>\n",
       "      <td>2016-12-31 00:00:00</td>\n",
       "      <td>2.016123e+07</td>\n",
       "      <td>2016.000000</td>\n",
       "      <td>10.000000</td>\n",
       "      <td>9.000000</td>\n",
       "      <td>201612.000000</td>\n",
       "      <td>6.000000</td>\n",
       "    </tr>\n",
       "    <tr>\n",
       "      <th>max</th>\n",
       "      <td>2017-12-31 00:00:00</td>\n",
       "      <td>2.017123e+07</td>\n",
       "      <td>2017.000000</td>\n",
       "      <td>12.000000</td>\n",
       "      <td>12.000000</td>\n",
       "      <td>201712.000000</td>\n",
       "      <td>7.000000</td>\n",
       "    </tr>\n",
       "    <tr>\n",
       "      <th>std</th>\n",
       "      <td>NaN</td>\n",
       "      <td>1.118630e+04</td>\n",
       "      <td>1.118111</td>\n",
       "      <td>3.449884</td>\n",
       "      <td>3.459999</td>\n",
       "      <td>111.862876</td>\n",
       "      <td>2.001197</td>\n",
       "    </tr>\n",
       "  </tbody>\n",
       "</table>\n",
       "</div>"
      ],
      "text/plain": [
       "                      Date       DateKey         Year     MonthNum  \\\n",
       "count                 1461  1.461000e+03  1461.000000  1461.000000   \n",
       "mean   2016-01-01 00:00:00  2.015567e+07  2015.500342     6.522930   \n",
       "min    2014-01-01 00:00:00  2.014010e+07  2014.000000     1.000000   \n",
       "25%    2015-01-01 00:00:00  2.015010e+07  2015.000000     4.000000   \n",
       "50%    2016-01-01 00:00:00  2.016010e+07  2016.000000     7.000000   \n",
       "75%    2016-12-31 00:00:00  2.016123e+07  2016.000000    10.000000   \n",
       "max    2017-12-31 00:00:00  2.017123e+07  2017.000000    12.000000   \n",
       "std                    NaN  1.118630e+04     1.118111     3.449884   \n",
       "\n",
       "       FiscalMonthNum   MonthYearNum   WeekdayNum  \n",
       "count     1461.000000    1461.000000  1461.000000  \n",
       "mean         6.477755  201556.557153     4.002053  \n",
       "min          1.000000  201401.000000     1.000000  \n",
       "25%          3.000000  201501.000000     2.000000  \n",
       "50%          6.000000  201601.000000     4.000000  \n",
       "75%          9.000000  201612.000000     6.000000  \n",
       "max         12.000000  201712.000000     7.000000  \n",
       "std          3.459999     111.862876     2.001197  "
      ]
     },
     "execution_count": 15,
     "metadata": {},
     "output_type": "execute_result"
    }
   ],
   "source": [
    "df.describe()"
   ]
  },
  {
   "cell_type": "code",
   "execution_count": 16,
   "id": "75d768a8-a4b8-4665-a920-dba5d11bd56d",
   "metadata": {},
   "outputs": [],
   "source": [
    "# Q2 given a pandas data frame df with columns \"a\", \"b\" , \"c\" write a python function to  "
   ]
  },
  {
   "cell_type": "code",
   "execution_count": 17,
   "id": "5c1d06a7-973f-4d1a-a320-dca7b518b98e",
   "metadata": {},
   "outputs": [],
   "source": [
    "df1 = pd.DataFrame({\"A\":[1,2,3,4],\"B\":[0,9,8,7],\"c\":[23,43,45,3]})"
   ]
  },
  {
   "cell_type": "code",
   "execution_count": 18,
   "id": "4b6f40d9-03dc-4872-8dfd-c921592ea242",
   "metadata": {},
   "outputs": [],
   "source": [
    "df1[\"value\"] = [10,20,30,40]"
   ]
  },
  {
   "cell_type": "code",
   "execution_count": 19,
   "id": "34f6fbc7-ce19-441c-b255-efa6d12c9ab1",
   "metadata": {},
   "outputs": [],
   "source": [
    "nex_index = pd.Series([x for x in range(1,2 *  len(df1)+1 , 2)], name = \"nex_index\")"
   ]
  },
  {
   "cell_type": "code",
   "execution_count": null,
   "id": "38ff7739-d541-49e4-9f1e-66da53d7bad0",
   "metadata": {},
   "outputs": [],
   "source": []
  },
  {
   "cell_type": "code",
   "execution_count": 20,
   "id": "da672b64-0ed0-4f4b-b1b8-e67561adb7e4",
   "metadata": {},
   "outputs": [],
   "source": [
    "df2 = df1.reset_index(drop = True).set_index(nex_index)"
   ]
  },
  {
   "cell_type": "code",
   "execution_count": 21,
   "id": "6e082b0d-cf43-49b0-8c6b-21c00a24c47f",
   "metadata": {},
   "outputs": [
    {
     "data": {
      "text/html": [
       "<div>\n",
       "<style scoped>\n",
       "    .dataframe tbody tr th:only-of-type {\n",
       "        vertical-align: middle;\n",
       "    }\n",
       "\n",
       "    .dataframe tbody tr th {\n",
       "        vertical-align: top;\n",
       "    }\n",
       "\n",
       "    .dataframe thead th {\n",
       "        text-align: right;\n",
       "    }\n",
       "</style>\n",
       "<table border=\"1\" class=\"dataframe\">\n",
       "  <thead>\n",
       "    <tr style=\"text-align: right;\">\n",
       "      <th></th>\n",
       "      <th>A</th>\n",
       "      <th>B</th>\n",
       "      <th>c</th>\n",
       "      <th>value</th>\n",
       "    </tr>\n",
       "    <tr>\n",
       "      <th>nex_index</th>\n",
       "      <th></th>\n",
       "      <th></th>\n",
       "      <th></th>\n",
       "      <th></th>\n",
       "    </tr>\n",
       "  </thead>\n",
       "  <tbody>\n",
       "    <tr>\n",
       "      <th>1</th>\n",
       "      <td>1</td>\n",
       "      <td>0</td>\n",
       "      <td>23</td>\n",
       "      <td>10</td>\n",
       "    </tr>\n",
       "    <tr>\n",
       "      <th>3</th>\n",
       "      <td>2</td>\n",
       "      <td>9</td>\n",
       "      <td>43</td>\n",
       "      <td>20</td>\n",
       "    </tr>\n",
       "    <tr>\n",
       "      <th>5</th>\n",
       "      <td>3</td>\n",
       "      <td>8</td>\n",
       "      <td>45</td>\n",
       "      <td>30</td>\n",
       "    </tr>\n",
       "    <tr>\n",
       "      <th>7</th>\n",
       "      <td>4</td>\n",
       "      <td>7</td>\n",
       "      <td>3</td>\n",
       "      <td>40</td>\n",
       "    </tr>\n",
       "  </tbody>\n",
       "</table>\n",
       "</div>"
      ],
      "text/plain": [
       "           A  B   c  value\n",
       "nex_index                 \n",
       "1          1  0  23     10\n",
       "3          2  9  43     20\n",
       "5          3  8  45     30\n",
       "7          4  7   3     40"
      ]
     },
     "execution_count": 21,
     "metadata": {},
     "output_type": "execute_result"
    }
   ],
   "source": [
    "df2"
   ]
  },
  {
   "cell_type": "code",
   "execution_count": 22,
   "id": "b40c673b-1225-4968-ae28-48282231e9a4",
   "metadata": {},
   "outputs": [],
   "source": [
    "def sum_of_head(df1):\n",
    "    n = 3\n",
    "    sum = 0 \n",
    "    for i in range(0,n):\n",
    "        sum = sum + df1.loc[i,\"c\"]\n",
    "    print(sum)"
   ]
  },
  {
   "cell_type": "code",
   "execution_count": 23,
   "id": "cec51a67-ce49-47df-aa46-fe2104d2de27",
   "metadata": {},
   "outputs": [
    {
     "name": "stdout",
     "output_type": "stream",
     "text": [
      "111\n"
     ]
    }
   ],
   "source": [
    "sum_of_head(df1)"
   ]
  },
  {
   "cell_type": "code",
   "execution_count": 24,
   "id": "30bddc05-9afa-46b8-b7f8-456450bfca21",
   "metadata": {},
   "outputs": [
    {
     "data": {
      "text/html": [
       "<div>\n",
       "<style scoped>\n",
       "    .dataframe tbody tr th:only-of-type {\n",
       "        vertical-align: middle;\n",
       "    }\n",
       "\n",
       "    .dataframe tbody tr th {\n",
       "        vertical-align: top;\n",
       "    }\n",
       "\n",
       "    .dataframe thead th {\n",
       "        text-align: right;\n",
       "    }\n",
       "</style>\n",
       "<table border=\"1\" class=\"dataframe\">\n",
       "  <thead>\n",
       "    <tr style=\"text-align: right;\">\n",
       "      <th></th>\n",
       "      <th>A</th>\n",
       "      <th>B</th>\n",
       "      <th>c</th>\n",
       "      <th>value</th>\n",
       "    </tr>\n",
       "  </thead>\n",
       "  <tbody>\n",
       "    <tr>\n",
       "      <th>0</th>\n",
       "      <td>1</td>\n",
       "      <td>0</td>\n",
       "      <td>23</td>\n",
       "      <td>10</td>\n",
       "    </tr>\n",
       "    <tr>\n",
       "      <th>1</th>\n",
       "      <td>2</td>\n",
       "      <td>9</td>\n",
       "      <td>43</td>\n",
       "      <td>20</td>\n",
       "    </tr>\n",
       "    <tr>\n",
       "      <th>2</th>\n",
       "      <td>3</td>\n",
       "      <td>8</td>\n",
       "      <td>45</td>\n",
       "      <td>30</td>\n",
       "    </tr>\n",
       "    <tr>\n",
       "      <th>3</th>\n",
       "      <td>4</td>\n",
       "      <td>7</td>\n",
       "      <td>3</td>\n",
       "      <td>40</td>\n",
       "    </tr>\n",
       "  </tbody>\n",
       "</table>\n",
       "</div>"
      ],
      "text/plain": [
       "   A  B   c  value\n",
       "0  1  0  23     10\n",
       "1  2  9  43     20\n",
       "2  3  8  45     30\n",
       "3  4  7   3     40"
      ]
     },
     "execution_count": 24,
     "metadata": {},
     "output_type": "execute_result"
    }
   ],
   "source": [
    "df1"
   ]
  },
  {
   "cell_type": "code",
   "execution_count": 25,
   "id": "d123feab-f269-47a6-bd8f-a46e019ef692",
   "metadata": {},
   "outputs": [],
   "source": [
    "b= df1[\"c\"]"
   ]
  },
  {
   "cell_type": "code",
   "execution_count": 26,
   "id": "2fb2fda9-877d-4b0b-a6e9-630bbd1e0d26",
   "metadata": {},
   "outputs": [
    {
     "data": {
      "text/plain": [
       "60"
      ]
     },
     "execution_count": 26,
     "metadata": {},
     "output_type": "execute_result"
    }
   ],
   "source": [
    "df1[\"value\"].loc[0:2].sum()"
   ]
  },
  {
   "cell_type": "code",
   "execution_count": 27,
   "id": "fe42fa1c-ce66-4744-aa6c-9e770ef944a0",
   "metadata": {},
   "outputs": [],
   "source": [
    "#Q4 given a pandas DataFrame df with a columns \"text\",write a python function to create a new columns "
   ]
  },
  {
   "cell_type": "code",
   "execution_count": 28,
   "id": "6a0326a0-0f3a-43ee-86c9-205419b8a31a",
   "metadata": {},
   "outputs": [],
   "source": [
    "df1[\"text\"] = [\"bhanu \", \"ruhi \", \"ram \", \"seeta\"]"
   ]
  },
  {
   "cell_type": "code",
   "execution_count": 29,
   "id": "d52436bd-bfd9-4c83-a0ed-4684ee5a29ca",
   "metadata": {},
   "outputs": [
    {
     "data": {
      "text/html": [
       "<div>\n",
       "<style scoped>\n",
       "    .dataframe tbody tr th:only-of-type {\n",
       "        vertical-align: middle;\n",
       "    }\n",
       "\n",
       "    .dataframe tbody tr th {\n",
       "        vertical-align: top;\n",
       "    }\n",
       "\n",
       "    .dataframe thead th {\n",
       "        text-align: right;\n",
       "    }\n",
       "</style>\n",
       "<table border=\"1\" class=\"dataframe\">\n",
       "  <thead>\n",
       "    <tr style=\"text-align: right;\">\n",
       "      <th></th>\n",
       "      <th>A</th>\n",
       "      <th>B</th>\n",
       "      <th>c</th>\n",
       "      <th>value</th>\n",
       "      <th>text</th>\n",
       "    </tr>\n",
       "  </thead>\n",
       "  <tbody>\n",
       "    <tr>\n",
       "      <th>0</th>\n",
       "      <td>1</td>\n",
       "      <td>0</td>\n",
       "      <td>23</td>\n",
       "      <td>10</td>\n",
       "      <td>bhanu</td>\n",
       "    </tr>\n",
       "    <tr>\n",
       "      <th>1</th>\n",
       "      <td>2</td>\n",
       "      <td>9</td>\n",
       "      <td>43</td>\n",
       "      <td>20</td>\n",
       "      <td>ruhi</td>\n",
       "    </tr>\n",
       "    <tr>\n",
       "      <th>2</th>\n",
       "      <td>3</td>\n",
       "      <td>8</td>\n",
       "      <td>45</td>\n",
       "      <td>30</td>\n",
       "      <td>ram</td>\n",
       "    </tr>\n",
       "    <tr>\n",
       "      <th>3</th>\n",
       "      <td>4</td>\n",
       "      <td>7</td>\n",
       "      <td>3</td>\n",
       "      <td>40</td>\n",
       "      <td>seeta</td>\n",
       "    </tr>\n",
       "  </tbody>\n",
       "</table>\n",
       "</div>"
      ],
      "text/plain": [
       "   A  B   c  value    text\n",
       "0  1  0  23     10  bhanu \n",
       "1  2  9  43     20   ruhi \n",
       "2  3  8  45     30    ram \n",
       "3  4  7   3     40   seeta"
      ]
     },
     "execution_count": 29,
     "metadata": {},
     "output_type": "execute_result"
    }
   ],
   "source": [
    "df1"
   ]
  },
  {
   "cell_type": "code",
   "execution_count": 30,
   "id": "0f79b04f-a4ac-4dba-8b11-53d176b3745a",
   "metadata": {},
   "outputs": [],
   "source": [
    "def count_word(x):\n",
    "    return len(list(x))"
   ]
  },
  {
   "cell_type": "code",
   "execution_count": 31,
   "id": "dd64e4b4-5f15-4a17-868d-a8ef9a7a1282",
   "metadata": {},
   "outputs": [],
   "source": [
    "df1[\"word_count\"] = df1[\"text\"].apply(lambda x: count_word(x))"
   ]
  },
  {
   "cell_type": "code",
   "execution_count": 32,
   "id": "ea50c0fd-88b0-4155-9165-7d15369386cb",
   "metadata": {},
   "outputs": [
    {
     "data": {
      "text/html": [
       "<div>\n",
       "<style scoped>\n",
       "    .dataframe tbody tr th:only-of-type {\n",
       "        vertical-align: middle;\n",
       "    }\n",
       "\n",
       "    .dataframe tbody tr th {\n",
       "        vertical-align: top;\n",
       "    }\n",
       "\n",
       "    .dataframe thead th {\n",
       "        text-align: right;\n",
       "    }\n",
       "</style>\n",
       "<table border=\"1\" class=\"dataframe\">\n",
       "  <thead>\n",
       "    <tr style=\"text-align: right;\">\n",
       "      <th></th>\n",
       "      <th>A</th>\n",
       "      <th>B</th>\n",
       "      <th>c</th>\n",
       "      <th>value</th>\n",
       "      <th>text</th>\n",
       "      <th>word_count</th>\n",
       "    </tr>\n",
       "  </thead>\n",
       "  <tbody>\n",
       "    <tr>\n",
       "      <th>0</th>\n",
       "      <td>1</td>\n",
       "      <td>0</td>\n",
       "      <td>23</td>\n",
       "      <td>10</td>\n",
       "      <td>bhanu</td>\n",
       "      <td>6</td>\n",
       "    </tr>\n",
       "    <tr>\n",
       "      <th>1</th>\n",
       "      <td>2</td>\n",
       "      <td>9</td>\n",
       "      <td>43</td>\n",
       "      <td>20</td>\n",
       "      <td>ruhi</td>\n",
       "      <td>5</td>\n",
       "    </tr>\n",
       "    <tr>\n",
       "      <th>2</th>\n",
       "      <td>3</td>\n",
       "      <td>8</td>\n",
       "      <td>45</td>\n",
       "      <td>30</td>\n",
       "      <td>ram</td>\n",
       "      <td>4</td>\n",
       "    </tr>\n",
       "    <tr>\n",
       "      <th>3</th>\n",
       "      <td>4</td>\n",
       "      <td>7</td>\n",
       "      <td>3</td>\n",
       "      <td>40</td>\n",
       "      <td>seeta</td>\n",
       "      <td>5</td>\n",
       "    </tr>\n",
       "  </tbody>\n",
       "</table>\n",
       "</div>"
      ],
      "text/plain": [
       "   A  B   c  value    text  word_count\n",
       "0  1  0  23     10  bhanu            6\n",
       "1  2  9  43     20   ruhi            5\n",
       "2  3  8  45     30    ram            4\n",
       "3  4  7   3     40   seeta           5"
      ]
     },
     "execution_count": 32,
     "metadata": {},
     "output_type": "execute_result"
    }
   ],
   "source": [
    "df1"
   ]
  },
  {
   "cell_type": "code",
   "execution_count": 33,
   "id": "bd5b069e-f0d7-4bf1-a1ef-be06e284be3f",
   "metadata": {},
   "outputs": [
    {
     "data": {
      "text/plain": [
       "1"
      ]
     },
     "execution_count": 33,
     "metadata": {},
     "output_type": "execute_result"
    }
   ],
   "source": [
    "len(df1[\"text\"][1].split())"
   ]
  },
  {
   "cell_type": "code",
   "execution_count": 34,
   "id": "16c33dd9-8985-4a25-b456-b00bd110b2c5",
   "metadata": {},
   "outputs": [
    {
     "data": {
      "text/plain": [
       "24"
      ]
     },
     "execution_count": 34,
     "metadata": {},
     "output_type": "execute_result"
    }
   ],
   "source": [
    "df1.size"
   ]
  },
  {
   "cell_type": "code",
   "execution_count": 35,
   "id": "196d2d1c-1318-491d-913e-09cb5285efc6",
   "metadata": {},
   "outputs": [],
   "source": [
    "#Q5 How are DataFrame.size() and DataFrame.shape() different?"
   ]
  },
  {
   "cell_type": "code",
   "execution_count": 36,
   "id": "af27f9b7-0039-4011-b149-75d1c446d98f",
   "metadata": {},
   "outputs": [
    {
     "data": {
      "text/plain": [
       "(4, 6)"
      ]
     },
     "execution_count": 36,
     "metadata": {},
     "output_type": "execute_result"
    }
   ],
   "source": [
    "df1.shape"
   ]
  },
  {
   "cell_type": "code",
   "execution_count": 37,
   "id": "3efabd95-4f70-4dd7-88ff-c3865847f11e",
   "metadata": {},
   "outputs": [],
   "source": [
    "df1[\"email\"] = [\"bhanu07072002@gmail.com\",\"shivani123@gmail.com\",\"ram098@gmailcom\",\"shyam321@gmail.com\"]"
   ]
  },
  {
   "cell_type": "code",
   "execution_count": 38,
   "id": "6d3e3221-eb97-4690-a7d7-978e8ff2402a",
   "metadata": {},
   "outputs": [
    {
     "data": {
      "text/html": [
       "<div>\n",
       "<style scoped>\n",
       "    .dataframe tbody tr th:only-of-type {\n",
       "        vertical-align: middle;\n",
       "    }\n",
       "\n",
       "    .dataframe tbody tr th {\n",
       "        vertical-align: top;\n",
       "    }\n",
       "\n",
       "    .dataframe thead th {\n",
       "        text-align: right;\n",
       "    }\n",
       "</style>\n",
       "<table border=\"1\" class=\"dataframe\">\n",
       "  <thead>\n",
       "    <tr style=\"text-align: right;\">\n",
       "      <th></th>\n",
       "      <th>A</th>\n",
       "      <th>B</th>\n",
       "      <th>c</th>\n",
       "      <th>value</th>\n",
       "      <th>text</th>\n",
       "      <th>word_count</th>\n",
       "      <th>email</th>\n",
       "    </tr>\n",
       "  </thead>\n",
       "  <tbody>\n",
       "    <tr>\n",
       "      <th>0</th>\n",
       "      <td>1</td>\n",
       "      <td>0</td>\n",
       "      <td>23</td>\n",
       "      <td>10</td>\n",
       "      <td>bhanu</td>\n",
       "      <td>6</td>\n",
       "      <td>bhanu07072002@gmail.com</td>\n",
       "    </tr>\n",
       "    <tr>\n",
       "      <th>1</th>\n",
       "      <td>2</td>\n",
       "      <td>9</td>\n",
       "      <td>43</td>\n",
       "      <td>20</td>\n",
       "      <td>ruhi</td>\n",
       "      <td>5</td>\n",
       "      <td>shivani123@gmail.com</td>\n",
       "    </tr>\n",
       "    <tr>\n",
       "      <th>2</th>\n",
       "      <td>3</td>\n",
       "      <td>8</td>\n",
       "      <td>45</td>\n",
       "      <td>30</td>\n",
       "      <td>ram</td>\n",
       "      <td>4</td>\n",
       "      <td>ram098@gmailcom</td>\n",
       "    </tr>\n",
       "    <tr>\n",
       "      <th>3</th>\n",
       "      <td>4</td>\n",
       "      <td>7</td>\n",
       "      <td>3</td>\n",
       "      <td>40</td>\n",
       "      <td>seeta</td>\n",
       "      <td>5</td>\n",
       "      <td>shyam321@gmail.com</td>\n",
       "    </tr>\n",
       "  </tbody>\n",
       "</table>\n",
       "</div>"
      ],
      "text/plain": [
       "   A  B   c  value    text  word_count                    email\n",
       "0  1  0  23     10  bhanu            6  bhanu07072002@gmail.com\n",
       "1  2  9  43     20   ruhi            5     shivani123@gmail.com\n",
       "2  3  8  45     30    ram            4          ram098@gmailcom\n",
       "3  4  7   3     40   seeta           5       shyam321@gmail.com"
      ]
     },
     "execution_count": 38,
     "metadata": {},
     "output_type": "execute_result"
    }
   ],
   "source": [
    "df1"
   ]
  },
  {
   "cell_type": "code",
   "execution_count": 39,
   "id": "e06ff31c-fa7d-4691-a9c8-63cc14bc7f9b",
   "metadata": {},
   "outputs": [],
   "source": [
    "def creat_user_name(x):\n",
    "    return x.split(\"@\")[0]"
   ]
  },
  {
   "cell_type": "code",
   "execution_count": 40,
   "id": "ae627c5d-b53a-4143-a379-10cd28180b72",
   "metadata": {},
   "outputs": [],
   "source": [
    "df1[\"user_name\"] = df1[\"email\"].apply(lambda x : creat_user_name(x))"
   ]
  },
  {
   "cell_type": "code",
   "execution_count": 41,
   "id": "1ac9b62c-6d51-4bba-87ae-4fff85e5d3d8",
   "metadata": {},
   "outputs": [
    {
     "data": {
      "text/html": [
       "<div>\n",
       "<style scoped>\n",
       "    .dataframe tbody tr th:only-of-type {\n",
       "        vertical-align: middle;\n",
       "    }\n",
       "\n",
       "    .dataframe tbody tr th {\n",
       "        vertical-align: top;\n",
       "    }\n",
       "\n",
       "    .dataframe thead th {\n",
       "        text-align: right;\n",
       "    }\n",
       "</style>\n",
       "<table border=\"1\" class=\"dataframe\">\n",
       "  <thead>\n",
       "    <tr style=\"text-align: right;\">\n",
       "      <th></th>\n",
       "      <th>A</th>\n",
       "      <th>B</th>\n",
       "      <th>c</th>\n",
       "      <th>value</th>\n",
       "      <th>text</th>\n",
       "      <th>word_count</th>\n",
       "      <th>email</th>\n",
       "      <th>user_name</th>\n",
       "    </tr>\n",
       "  </thead>\n",
       "  <tbody>\n",
       "    <tr>\n",
       "      <th>0</th>\n",
       "      <td>1</td>\n",
       "      <td>0</td>\n",
       "      <td>23</td>\n",
       "      <td>10</td>\n",
       "      <td>bhanu</td>\n",
       "      <td>6</td>\n",
       "      <td>bhanu07072002@gmail.com</td>\n",
       "      <td>bhanu07072002</td>\n",
       "    </tr>\n",
       "    <tr>\n",
       "      <th>1</th>\n",
       "      <td>2</td>\n",
       "      <td>9</td>\n",
       "      <td>43</td>\n",
       "      <td>20</td>\n",
       "      <td>ruhi</td>\n",
       "      <td>5</td>\n",
       "      <td>shivani123@gmail.com</td>\n",
       "      <td>shivani123</td>\n",
       "    </tr>\n",
       "    <tr>\n",
       "      <th>2</th>\n",
       "      <td>3</td>\n",
       "      <td>8</td>\n",
       "      <td>45</td>\n",
       "      <td>30</td>\n",
       "      <td>ram</td>\n",
       "      <td>4</td>\n",
       "      <td>ram098@gmailcom</td>\n",
       "      <td>ram098</td>\n",
       "    </tr>\n",
       "    <tr>\n",
       "      <th>3</th>\n",
       "      <td>4</td>\n",
       "      <td>7</td>\n",
       "      <td>3</td>\n",
       "      <td>40</td>\n",
       "      <td>seeta</td>\n",
       "      <td>5</td>\n",
       "      <td>shyam321@gmail.com</td>\n",
       "      <td>shyam321</td>\n",
       "    </tr>\n",
       "  </tbody>\n",
       "</table>\n",
       "</div>"
      ],
      "text/plain": [
       "   A  B   c  value    text  word_count                    email      user_name\n",
       "0  1  0  23     10  bhanu            6  bhanu07072002@gmail.com  bhanu07072002\n",
       "1  2  9  43     20   ruhi            5     shivani123@gmail.com     shivani123\n",
       "2  3  8  45     30    ram            4          ram098@gmailcom         ram098\n",
       "3  4  7   3     40   seeta           5       shyam321@gmail.com       shyam321"
      ]
     },
     "execution_count": 41,
     "metadata": {},
     "output_type": "execute_result"
    }
   ],
   "source": [
    "df1"
   ]
  },
  {
   "cell_type": "code",
   "execution_count": 42,
   "id": "53329a66-abd7-4583-83fd-ae34ae8431ef",
   "metadata": {},
   "outputs": [],
   "source": [
    "#Q8"
   ]
  },
  {
   "cell_type": "code",
   "execution_count": 43,
   "id": "c64f68e5-5557-4ce0-a294-7ee1df286fb0",
   "metadata": {},
   "outputs": [],
   "source": [
    "a = pd.Series([3,8,6,2,9],name  = \"a\")\n",
    "b = pd.Series([5,2,9,3,1],name = \"b\")\n",
    "c = pd.Series([1,7,4,5,2], name = \"c\")"
   ]
  },
  {
   "cell_type": "code",
   "execution_count": 44,
   "id": "48326929-d5c7-49be-b0dc-da8aff190f92",
   "metadata": {},
   "outputs": [],
   "source": [
    "df4 = pd.DataFrame({a.name : a,b.name :b , c.name :c })"
   ]
  },
  {
   "cell_type": "code",
   "execution_count": 45,
   "id": "10690a50-ba94-464a-96ae-8d8d1c966398",
   "metadata": {},
   "outputs": [
    {
     "data": {
      "text/html": [
       "<div>\n",
       "<style scoped>\n",
       "    .dataframe tbody tr th:only-of-type {\n",
       "        vertical-align: middle;\n",
       "    }\n",
       "\n",
       "    .dataframe tbody tr th {\n",
       "        vertical-align: top;\n",
       "    }\n",
       "\n",
       "    .dataframe thead th {\n",
       "        text-align: right;\n",
       "    }\n",
       "</style>\n",
       "<table border=\"1\" class=\"dataframe\">\n",
       "  <thead>\n",
       "    <tr style=\"text-align: right;\">\n",
       "      <th></th>\n",
       "      <th>a</th>\n",
       "      <th>b</th>\n",
       "      <th>c</th>\n",
       "    </tr>\n",
       "  </thead>\n",
       "  <tbody>\n",
       "    <tr>\n",
       "      <th>0</th>\n",
       "      <td>3</td>\n",
       "      <td>5</td>\n",
       "      <td>1</td>\n",
       "    </tr>\n",
       "    <tr>\n",
       "      <th>1</th>\n",
       "      <td>8</td>\n",
       "      <td>2</td>\n",
       "      <td>7</td>\n",
       "    </tr>\n",
       "    <tr>\n",
       "      <th>2</th>\n",
       "      <td>6</td>\n",
       "      <td>9</td>\n",
       "      <td>4</td>\n",
       "    </tr>\n",
       "    <tr>\n",
       "      <th>3</th>\n",
       "      <td>2</td>\n",
       "      <td>3</td>\n",
       "      <td>5</td>\n",
       "    </tr>\n",
       "    <tr>\n",
       "      <th>4</th>\n",
       "      <td>9</td>\n",
       "      <td>1</td>\n",
       "      <td>2</td>\n",
       "    </tr>\n",
       "  </tbody>\n",
       "</table>\n",
       "</div>"
      ],
      "text/plain": [
       "   a  b  c\n",
       "0  3  5  1\n",
       "1  8  2  7\n",
       "2  6  9  4\n",
       "3  2  3  5\n",
       "4  9  1  2"
      ]
     },
     "execution_count": 45,
     "metadata": {},
     "output_type": "execute_result"
    }
   ],
   "source": [
    "df4"
   ]
  },
  {
   "cell_type": "code",
   "execution_count": 46,
   "id": "ae61cfc2-ae85-4359-be24-f65e1fdb1ba8",
   "metadata": {},
   "outputs": [
    {
     "data": {
      "text/plain": [
       "RangeIndex(start=0, stop=4, step=1)"
      ]
     },
     "execution_count": 46,
     "metadata": {},
     "output_type": "execute_result"
    }
   ],
   "source": [
    "df1.index"
   ]
  },
  {
   "cell_type": "code",
   "execution_count": 47,
   "id": "4c8aa832-d5a9-49cf-bc37-eec94c0a0d8f",
   "metadata": {},
   "outputs": [
    {
     "data": {
      "text/html": [
       "<div>\n",
       "<style scoped>\n",
       "    .dataframe tbody tr th:only-of-type {\n",
       "        vertical-align: middle;\n",
       "    }\n",
       "\n",
       "    .dataframe tbody tr th {\n",
       "        vertical-align: top;\n",
       "    }\n",
       "\n",
       "    .dataframe thead th {\n",
       "        text-align: right;\n",
       "    }\n",
       "</style>\n",
       "<table border=\"1\" class=\"dataframe\">\n",
       "  <thead>\n",
       "    <tr style=\"text-align: right;\">\n",
       "      <th></th>\n",
       "      <th>a</th>\n",
       "      <th>b</th>\n",
       "      <th>c</th>\n",
       "    </tr>\n",
       "  </thead>\n",
       "  <tbody>\n",
       "    <tr>\n",
       "      <th>1</th>\n",
       "      <td>8</td>\n",
       "      <td>2</td>\n",
       "      <td>7</td>\n",
       "    </tr>\n",
       "    <tr>\n",
       "      <th>2</th>\n",
       "      <td>6</td>\n",
       "      <td>9</td>\n",
       "      <td>4</td>\n",
       "    </tr>\n",
       "    <tr>\n",
       "      <th>4</th>\n",
       "      <td>9</td>\n",
       "      <td>1</td>\n",
       "      <td>2</td>\n",
       "    </tr>\n",
       "  </tbody>\n",
       "</table>\n",
       "</div>"
      ],
      "text/plain": [
       "   a  b  c\n",
       "1  8  2  7\n",
       "2  6  9  4\n",
       "4  9  1  2"
      ]
     },
     "execution_count": 47,
     "metadata": {},
     "output_type": "execute_result"
    }
   ],
   "source": [
    "df4[df4[\"a\"] > 5 ]"
   ]
  },
  {
   "cell_type": "code",
   "execution_count": 48,
   "id": "dabc475c-bd29-4d8f-809b-abb1ef6698c4",
   "metadata": {},
   "outputs": [],
   "source": [
    "def new_dataFrame(dataFrame):\n",
    "    \n",
    "    filter1 =dataFrame[dataFrame[\"a\"] > 5]\n",
    "    filter2 =filter1[filter1[\"b\"] < 10 ]\n",
    "    return filter2 "
   ]
  },
  {
   "cell_type": "code",
   "execution_count": 49,
   "id": "25ee9d90-1840-427b-b0f2-7e07e87ad1d3",
   "metadata": {},
   "outputs": [],
   "source": [
    "df5 = new_dataFrame(df4)"
   ]
  },
  {
   "cell_type": "code",
   "execution_count": 50,
   "id": "7cf2f255-b465-4a4d-8165-b238999be30c",
   "metadata": {},
   "outputs": [
    {
     "data": {
      "text/html": [
       "<div>\n",
       "<style scoped>\n",
       "    .dataframe tbody tr th:only-of-type {\n",
       "        vertical-align: middle;\n",
       "    }\n",
       "\n",
       "    .dataframe tbody tr th {\n",
       "        vertical-align: top;\n",
       "    }\n",
       "\n",
       "    .dataframe thead th {\n",
       "        text-align: right;\n",
       "    }\n",
       "</style>\n",
       "<table border=\"1\" class=\"dataframe\">\n",
       "  <thead>\n",
       "    <tr style=\"text-align: right;\">\n",
       "      <th></th>\n",
       "      <th>a</th>\n",
       "      <th>b</th>\n",
       "      <th>c</th>\n",
       "    </tr>\n",
       "  </thead>\n",
       "  <tbody>\n",
       "    <tr>\n",
       "      <th>1</th>\n",
       "      <td>8</td>\n",
       "      <td>2</td>\n",
       "      <td>7</td>\n",
       "    </tr>\n",
       "    <tr>\n",
       "      <th>2</th>\n",
       "      <td>6</td>\n",
       "      <td>9</td>\n",
       "      <td>4</td>\n",
       "    </tr>\n",
       "    <tr>\n",
       "      <th>4</th>\n",
       "      <td>9</td>\n",
       "      <td>1</td>\n",
       "      <td>2</td>\n",
       "    </tr>\n",
       "  </tbody>\n",
       "</table>\n",
       "</div>"
      ],
      "text/plain": [
       "   a  b  c\n",
       "1  8  2  7\n",
       "2  6  9  4\n",
       "4  9  1  2"
      ]
     },
     "execution_count": 50,
     "metadata": {},
     "output_type": "execute_result"
    }
   ],
   "source": [
    "df5"
   ]
  },
  {
   "cell_type": "code",
   "execution_count": 51,
   "id": "08bd47d0-fcdd-422b-875c-ab04f8756bee",
   "metadata": {},
   "outputs": [],
   "source": [
    "df4[\"value\"] = [12,21,34,88,65]"
   ]
  },
  {
   "cell_type": "code",
   "execution_count": 52,
   "id": "9fce211c-71b3-4966-b147-c41061449732",
   "metadata": {},
   "outputs": [
    {
     "data": {
      "text/html": [
       "<div>\n",
       "<style scoped>\n",
       "    .dataframe tbody tr th:only-of-type {\n",
       "        vertical-align: middle;\n",
       "    }\n",
       "\n",
       "    .dataframe tbody tr th {\n",
       "        vertical-align: top;\n",
       "    }\n",
       "\n",
       "    .dataframe thead th {\n",
       "        text-align: right;\n",
       "    }\n",
       "</style>\n",
       "<table border=\"1\" class=\"dataframe\">\n",
       "  <thead>\n",
       "    <tr style=\"text-align: right;\">\n",
       "      <th></th>\n",
       "      <th>a</th>\n",
       "      <th>b</th>\n",
       "      <th>c</th>\n",
       "      <th>value</th>\n",
       "    </tr>\n",
       "  </thead>\n",
       "  <tbody>\n",
       "    <tr>\n",
       "      <th>0</th>\n",
       "      <td>3</td>\n",
       "      <td>5</td>\n",
       "      <td>1</td>\n",
       "      <td>12</td>\n",
       "    </tr>\n",
       "    <tr>\n",
       "      <th>1</th>\n",
       "      <td>8</td>\n",
       "      <td>2</td>\n",
       "      <td>7</td>\n",
       "      <td>21</td>\n",
       "    </tr>\n",
       "    <tr>\n",
       "      <th>2</th>\n",
       "      <td>6</td>\n",
       "      <td>9</td>\n",
       "      <td>4</td>\n",
       "      <td>34</td>\n",
       "    </tr>\n",
       "    <tr>\n",
       "      <th>3</th>\n",
       "      <td>2</td>\n",
       "      <td>3</td>\n",
       "      <td>5</td>\n",
       "      <td>88</td>\n",
       "    </tr>\n",
       "    <tr>\n",
       "      <th>4</th>\n",
       "      <td>9</td>\n",
       "      <td>1</td>\n",
       "      <td>2</td>\n",
       "      <td>65</td>\n",
       "    </tr>\n",
       "  </tbody>\n",
       "</table>\n",
       "</div>"
      ],
      "text/plain": [
       "   a  b  c  value\n",
       "0  3  5  1     12\n",
       "1  8  2  7     21\n",
       "2  6  9  4     34\n",
       "3  2  3  5     88\n",
       "4  9  1  2     65"
      ]
     },
     "execution_count": 52,
     "metadata": {},
     "output_type": "execute_result"
    }
   ],
   "source": [
    "df4"
   ]
  },
  {
   "cell_type": "code",
   "execution_count": 53,
   "id": "c10f4554-20ac-44e9-b645-57d1ebe8de57",
   "metadata": {},
   "outputs": [
    {
     "data": {
      "text/plain": [
       "44.0"
      ]
     },
     "execution_count": 53,
     "metadata": {},
     "output_type": "execute_result"
    }
   ],
   "source": [
    "df4[\"value\"].mean()"
   ]
  },
  {
   "cell_type": "code",
   "execution_count": 54,
   "id": "ec0e36bf-873a-482b-b52f-1e8aecdf0f85",
   "metadata": {},
   "outputs": [
    {
     "data": {
      "text/plain": [
       "34.0"
      ]
     },
     "execution_count": 54,
     "metadata": {},
     "output_type": "execute_result"
    }
   ],
   "source": [
    "df4[\"value\"].median()"
   ]
  },
  {
   "cell_type": "code",
   "execution_count": 55,
   "id": "b4ef6b18-621c-4f07-9ff1-7c5414cbb346",
   "metadata": {},
   "outputs": [
    {
     "data": {
      "text/plain": [
       "31.741140496207755"
      ]
     },
     "execution_count": 55,
     "metadata": {},
     "output_type": "execute_result"
    }
   ],
   "source": [
    "df4[\"value\"].std()"
   ]
  },
  {
   "cell_type": "code",
   "execution_count": 56,
   "id": "c560eebf-389d-4377-a106-7229888a8b70",
   "metadata": {},
   "outputs": [
    {
     "data": {
      "text/html": [
       "<div>\n",
       "<style scoped>\n",
       "    .dataframe tbody tr th:only-of-type {\n",
       "        vertical-align: middle;\n",
       "    }\n",
       "\n",
       "    .dataframe tbody tr th {\n",
       "        vertical-align: top;\n",
       "    }\n",
       "\n",
       "    .dataframe thead th {\n",
       "        text-align: right;\n",
       "    }\n",
       "</style>\n",
       "<table border=\"1\" class=\"dataframe\">\n",
       "  <thead>\n",
       "    <tr style=\"text-align: right;\">\n",
       "      <th></th>\n",
       "      <th>A</th>\n",
       "      <th>B</th>\n",
       "      <th>c</th>\n",
       "      <th>value</th>\n",
       "      <th>text</th>\n",
       "      <th>word_count</th>\n",
       "      <th>email</th>\n",
       "      <th>user_name</th>\n",
       "    </tr>\n",
       "  </thead>\n",
       "  <tbody>\n",
       "    <tr>\n",
       "      <th>0</th>\n",
       "      <td>1</td>\n",
       "      <td>0</td>\n",
       "      <td>23</td>\n",
       "      <td>10</td>\n",
       "      <td>bhanu</td>\n",
       "      <td>6</td>\n",
       "      <td>bhanu07072002@gmail.com</td>\n",
       "      <td>bhanu07072002</td>\n",
       "    </tr>\n",
       "    <tr>\n",
       "      <th>1</th>\n",
       "      <td>2</td>\n",
       "      <td>9</td>\n",
       "      <td>43</td>\n",
       "      <td>20</td>\n",
       "      <td>ruhi</td>\n",
       "      <td>5</td>\n",
       "      <td>shivani123@gmail.com</td>\n",
       "      <td>shivani123</td>\n",
       "    </tr>\n",
       "    <tr>\n",
       "      <th>2</th>\n",
       "      <td>3</td>\n",
       "      <td>8</td>\n",
       "      <td>45</td>\n",
       "      <td>30</td>\n",
       "      <td>ram</td>\n",
       "      <td>4</td>\n",
       "      <td>ram098@gmailcom</td>\n",
       "      <td>ram098</td>\n",
       "    </tr>\n",
       "    <tr>\n",
       "      <th>3</th>\n",
       "      <td>4</td>\n",
       "      <td>7</td>\n",
       "      <td>3</td>\n",
       "      <td>40</td>\n",
       "      <td>seeta</td>\n",
       "      <td>5</td>\n",
       "      <td>shyam321@gmail.com</td>\n",
       "      <td>shyam321</td>\n",
       "    </tr>\n",
       "  </tbody>\n",
       "</table>\n",
       "</div>"
      ],
      "text/plain": [
       "   A  B   c  value    text  word_count                    email      user_name\n",
       "0  1  0  23     10  bhanu            6  bhanu07072002@gmail.com  bhanu07072002\n",
       "1  2  9  43     20   ruhi            5     shivani123@gmail.com     shivani123\n",
       "2  3  8  45     30    ram            4          ram098@gmailcom         ram098\n",
       "3  4  7   3     40   seeta           5       shyam321@gmail.com       shyam321"
      ]
     },
     "execution_count": 56,
     "metadata": {},
     "output_type": "execute_result"
    }
   ],
   "source": [
    "df1"
   ]
  },
  {
   "cell_type": "code",
   "execution_count": 57,
   "id": "7b5523e7-4653-434c-9f63-c9528c3c34b2",
   "metadata": {},
   "outputs": [],
   "source": [
    "dates = pd.date_range(start = \"2023-01-01\",end = \"2023-01-05\")"
   ]
  },
  {
   "cell_type": "code",
   "execution_count": 58,
   "id": "d5421015-772c-4a89-bbd0-bd9280023c85",
   "metadata": {},
   "outputs": [],
   "source": [
    "dff = pd.DataFrame({\"date\":dates})"
   ]
  },
  {
   "cell_type": "code",
   "execution_count": 59,
   "id": "3d4a57fc-1940-417b-b885-afc8e8c1beaa",
   "metadata": {},
   "outputs": [
    {
     "data": {
      "text/plain": [
       "0     saturday\n",
       "1       sunday\n",
       "2       monday\n",
       "3      tuesday\n",
       "4    wednesday\n",
       "Name: date, dtype: object"
      ]
     },
     "execution_count": 59,
     "metadata": {},
     "output_type": "execute_result"
    }
   ],
   "source": [
    "dff[\"date\"].dt.dayofweek.map({0:\"sunday\", 1:\"monday\",2:\"tuesday\",3:\"wednesday\",4:\"thusday \",5:\"friday\", 6:\"saturday\"})"
   ]
  },
  {
   "cell_type": "code",
   "execution_count": null,
   "id": "3a03d1b0-5174-418c-8e65-554cacfcdd8f",
   "metadata": {},
   "outputs": [],
   "source": []
  },
  {
   "cell_type": "code",
   "execution_count": null,
   "id": "a3a21b7c-ca7d-4cc4-97a0-0a1ff1476d20",
   "metadata": {},
   "outputs": [],
   "source": []
  },
  {
   "cell_type": "code",
   "execution_count": null,
   "id": "73f27d11-66e2-472e-b84f-93ca7b3b7865",
   "metadata": {},
   "outputs": [],
   "source": []
  },
  {
   "cell_type": "code",
   "execution_count": null,
   "id": "62a8752c-6ad0-4469-a618-e1757bf5e849",
   "metadata": {},
   "outputs": [],
   "source": []
  }
 ],
 "metadata": {
  "kernelspec": {
   "display_name": "Python 3 (ipykernel)",
   "language": "python",
   "name": "python3"
  },
  "language_info": {
   "codemirror_mode": {
    "name": "ipython",
    "version": 3
   },
   "file_extension": ".py",
   "mimetype": "text/x-python",
   "name": "python",
   "nbconvert_exporter": "python",
   "pygments_lexer": "ipython3",
   "version": "3.12.1"
  }
 },
 "nbformat": 4,
 "nbformat_minor": 5
}
